{
 "cells": [
  {
   "cell_type": "code",
   "execution_count": 1,
   "metadata": {},
   "outputs": [
    {
     "name": "stdout",
     "output_type": "stream",
     "text": [
      "            scientific_name                            park_name  observations\n",
      "0        Vicia benghalensis  Great Smoky Mountains National Park            68\n",
      "1            Neovison vison  Great Smoky Mountains National Park            77\n",
      "2         Prunus subcordata               Yosemite National Park           138\n",
      "3      Abutilon theophrasti                  Bryce National Park            84\n",
      "4  Githopsis specularioides  Great Smoky Mountains National Park            85\n",
      "  category                scientific_name  \\\n",
      "0   Mammal  Clethrionomys gapperi gapperi   \n",
      "1   Mammal                      Bos bison   \n",
      "2   Mammal                     Bos taurus   \n",
      "3   Mammal                     Ovis aries   \n",
      "4   Mammal                 Cervus elaphus   \n",
      "\n",
      "                                        common_names conservation_status  \n",
      "0                           Gapper's Red-Backed Vole                 NaN  \n",
      "1                              American Bison, Bison                 NaN  \n",
      "2  Aurochs, Aurochs, Domestic Cattle (Feral), Dom...                 NaN  \n",
      "3  Domestic Sheep, Mouflon, Red Sheep, Sheep (Feral)                 NaN  \n",
      "4                                      Wapiti Or Elk                 NaN  \n"
     ]
    }
   ],
   "source": [
    "import pandas as pd\n",
    "import numpy as np\n",
    "from matplotlib import pyplot as plt\n",
    "from scipy.stats import pearsonr\n",
    "import seaborn as sns\n",
    "\n",
    "obs = pd.read_csv('observations.csv')\n",
    "species =pd.read_csv('species_info.csv')\n",
    "\n",
    "print(obs.head())\n",
    "print(species.head())\n",
    "\n",
    "\n"
   ]
  },
  {
   "cell_type": "markdown",
   "metadata": {},
   "source": [
    "We have two datasets, one contains the number of observationsa and in which national park a species was seen. The second contains species and their common names and their conservation status (if of concern)\n",
    "We explored conservation status of different species in the national parks.\n"
   ]
  },
  {
   "cell_type": "markdown",
   "metadata": {},
   "source": [
    "Vascular plants (77%) followed by birds (8.9%) were the most frequently recorded species groups  "
   ]
  },
  {
   "cell_type": "code",
   "execution_count": null,
   "metadata": {},
   "outputs": [],
   "source": [
    "print(species.groupby(\"category\").size())\n",
    "print(len(species))"
   ]
  },
  {
   "cell_type": "code",
   "execution_count": null,
   "metadata": {},
   "outputs": [],
   "source": [
    "print(species.conservation_status.unique())\n",
    "print('There are 4 categories of conservation status')\n",
    "species['conservation_status'].value_counts().plot(kind='bar')\n",
    "plt.ylabel('Frequency')\n",
    "plt.xlabel('Conservation status')\n",
    "plt.title('Frequency of different conservation statuses recorded for animal species in US National Parks')\n",
    "plt.show()\n",
    "print('The majority of animal species were recorded as a Species of Concern')\n",
    "\n"
   ]
  },
  {
   "cell_type": "markdown",
   "metadata": {},
   "source": [
    "We next looked at whether certain animal groups differed in their distribution amongst conservation statuses\n"
   ]
  },
  {
   "cell_type": "code",
   "execution_count": null,
   "metadata": {},
   "outputs": [],
   "source": [
    "print(species.category.unique())\n",
    "#first going to make indiv barplots for each category then do a stacked barplot\n",
    "species.fillna('No Intervention', inplace=True)\n",
    "species_grouped= species.groupby(['category']).conservation_status.value_counts()\n",
    "#changes the series back to a panda df and gives us count as column \n",
    "species_grouped= species_grouped.rename('count').reset_index()\n",
    "print(species_grouped)\n",
    "\n"
   ]
  },
  {
   "cell_type": "code",
   "execution_count": null,
   "metadata": {},
   "outputs": [],
   "source": [
    "#unstack is way of getting data into wide format\n",
    "print(species_grouped.set_index(['category','conservation_status']).unstack())\n",
    "\n",
    "species_grouped.set_index(['category','conservation_status']).unstack().plot.bar(figsize=(7, 5))\n",
    "plt.title('Conservation status by animal species group')\n",
    "plt.xlabel('Animal species group')\n",
    "plt.ylabel('Count')\n",
    "plt.legend(['Endangered','In Recovery','No Intervention','Species of Concern','Threatened'])\n",
    "\n"
   ]
  },
  {
   "cell_type": "markdown",
   "metadata": {},
   "source": [
    "Vascular plants and birds have the largest counts of species that are classified as no intervention. Due to the large majority of sightings being of species needig no intervention we cannot assess which groups have more endangered species etc. so we need to explore these as proportions of the number of each group's species."
   ]
  },
  {
   "cell_type": "code",
   "execution_count": null,
   "metadata": {},
   "outputs": [],
   "source": [
    "species_grouped_norm = species_grouped.set_index(['category','conservation_status']).unstack()\n",
    "print(species_grouped_norm)\n",
    "#sums by row with axis 1\n",
    "total_species = species_grouped_norm.sum(axis=1)\n",
    "#divide by column \n",
    "species_grouped_norm = species_grouped_norm.div(total_species, axis=0)\n",
    "print(species_grouped_norm)\n",
    "species_grouped_norm.plot.bar(figsize=(7, 5))\n",
    "plt.title('Conservation status by animal species group')\n",
    "plt.xlabel('Animal species group')\n",
    "plt.ylabel('% by animal species group')\n",
    "plt.legend(['Endangered','In Recovery','No Intervention','Species of Concern','Threatened'])\n"
   ]
  },
  {
   "cell_type": "markdown",
   "metadata": {},
   "source": [
    "From this plot we can see that as a proportion of all of their species group records, the largest number of endangered species are in the fish and mammal groups. Reptiles, vascular non vascular plants had fewer recordings and of these, the species sighted were all species of concern (or not recorded)."
   ]
  },
  {
   "cell_type": "code",
   "execution_count": null,
   "metadata": {},
   "outputs": [],
   "source": [
    "species_grouped_norm = species_grouped.set_index(['category','conservation_status']).unstack()\n",
    "print(species_grouped_norm)\n",
    "#sums by row with axis 1\n",
    "total_species = species_grouped_norm.sum(axis=0)\n",
    "#divide by column \n",
    "species_grouped_norm = species_grouped_norm.div(total_species, axis=1)\n",
    "print(species_grouped_norm)\n",
    "species_grouped_norm.plot.bar(figsize=(7, 5))\n",
    "plt.title('Conservation status by animal species group')\n",
    "plt.xlabel('Animal species group')\n",
    "plt.ylabel('% by conservation status')\n",
    "plt.legend(['Endangered','In Recovery','No Intervention','Species of Concern','Threatened'])"
   ]
  },
  {
   "cell_type": "markdown",
   "metadata": {},
   "source": [
    "When we look at the composition of each conservation status group we can see variation in which species groups predominate. For the endangered status most species are mammals (44%) followed by birds (25%). Additionally, although these two species groups predominate the endangered status species, birds (75%) and mammals (25%) make up all the species determined to be in recovery status."
   ]
  },
  {
   "cell_type": "code",
   "execution_count": 7,
   "metadata": {},
   "outputs": [
    {
     "name": "stdout",
     "output_type": "stream",
     "text": [
      "                 scientific_name                            park_name  \\\n",
      "11281     Lycopodium tristachyum            Yellowstone National Park   \n",
      "1168          Castilleja miniata            Yellowstone National Park   \n",
      "20734        Cryptantha fendleri            Yellowstone National Park   \n",
      "8749   Dracocephalum parviflorum            Yellowstone National Park   \n",
      "7112           Bidens tripartita            Yellowstone National Park   \n",
      "...                          ...                                  ...   \n",
      "20375          Sambucus mexicana  Great Smoky Mountains National Park   \n",
      "18823               Rana sierrae  Great Smoky Mountains National Park   \n",
      "16054         Strix occidentalis  Great Smoky Mountains National Park   \n",
      "15511         Collomia tinctoria  Great Smoky Mountains National Park   \n",
      "9418             Corydalis aurea                  Bryce National Park   \n",
      "\n",
      "       observations  \n",
      "11281           321  \n",
      "1168            317  \n",
      "20734           316  \n",
      "8749            316  \n",
      "7112            314  \n",
      "...             ...  \n",
      "20375            12  \n",
      "18823            11  \n",
      "16054            11  \n",
      "15511            10  \n",
      "9418              9  \n",
      "\n",
      "[23296 rows x 3 columns]\n"
     ]
    }
   ],
   "source": [
    "\n",
    "print(obs.sort_values(by='observations',ascending=False))\n",
    "print('The most frequently observed species overall was Lycopodium tristachyum, a moss')"
   ]
  },
  {
   "cell_type": "markdown",
   "metadata": {},
   "source": [
    "Conclusions:\n",
    "    -> There are lots of sightings recorded in the National Parks- the majority of sightings are of species with a conservation status of 'No Intervention' (this makes sense, more commonly seen if not endangered)\n",
    "    ->Vascular plants and birds are the predominant species groups that have species with a 'No Intervention' status\n",
    "    -> At the species group level,mammals and birds have the highest proportions of species that are endangered\n",
    "    -> At the conservation status level, mammals and birds also had the highest proportion of species in recovery (good news)\n",
    "   -> However, this is a 7 day dataset. For exploring conservation status and species recovery a longitudinal dataset would be of more interest\n",
    "   "
   ]
  }
 ],
 "metadata": {
  "kernelspec": {
   "display_name": "Python 3",
   "language": "python",
   "name": "python3"
  },
  "language_info": {
   "codemirror_mode": {
    "name": "ipython",
    "version": 3
   },
   "file_extension": ".py",
   "mimetype": "text/x-python",
   "name": "python",
   "nbconvert_exporter": "python",
   "pygments_lexer": "ipython3",
   "version": "3.8.5"
  }
 },
 "nbformat": 4,
 "nbformat_minor": 4
}

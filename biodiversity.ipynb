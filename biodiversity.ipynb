{
 "cells": [
  {
   "cell_type": "code",
   "execution_count": 39,
   "metadata": {},
   "outputs": [
    {
     "name": "stdout",
     "output_type": "stream",
     "text": [
      "            scientific_name                            park_name  observations\n",
      "0        Vicia benghalensis  Great Smoky Mountains National Park            68\n",
      "1            Neovison vison  Great Smoky Mountains National Park            77\n",
      "2         Prunus subcordata               Yosemite National Park           138\n",
      "3      Abutilon theophrasti                  Bryce National Park            84\n",
      "4  Githopsis specularioides  Great Smoky Mountains National Park            85\n",
      "  category                scientific_name  \\\n",
      "0   Mammal  Clethrionomys gapperi gapperi   \n",
      "1   Mammal                      Bos bison   \n",
      "2   Mammal                     Bos taurus   \n",
      "3   Mammal                     Ovis aries   \n",
      "4   Mammal                 Cervus elaphus   \n",
      "\n",
      "                                        common_names conservation_status  \n",
      "0                           Gapper's Red-Backed Vole                 NaN  \n",
      "1                              American Bison, Bison                 NaN  \n",
      "2  Aurochs, Aurochs, Domestic Cattle (Feral), Dom...                 NaN  \n",
      "3  Domestic Sheep, Mouflon, Red Sheep, Sheep (Feral)                 NaN  \n",
      "4                                      Wapiti Or Elk                 NaN  \n"
     ]
    }
   ],
   "source": [
    "import pandas as pd\n",
    "import numpy as np\n",
    "from matplotlib import pyplot as plt\n",
    "from scipy.stats import pearsonr\n",
    "import seaborn as sns\n",
    "from scipy.stats import chi2_contingency\n",
    "\n",
    "obs = pd.read_csv('observations.csv')\n",
    "species =pd.read_csv('species_info.csv')\n",
    "species2=species\n",
    "print(obs.head())\n",
    "print(species.head())\n",
    "\n",
    "\n"
   ]
  },
  {
   "cell_type": "markdown",
   "metadata": {},
   "source": [
    "We have two datasets, one contains the number of observationsa and in which national park a species was seen. The second contains species and their common names and their conservation status (if of concern)\n",
    "We explored conservation status of different species in the national parks.\n"
   ]
  },
  {
   "cell_type": "markdown",
   "metadata": {},
   "source": [
    "Vascular plants (77%) followed by birds (8.9%) were the most frequently recorded species groups  "
   ]
  },
  {
   "cell_type": "code",
   "execution_count": 40,
   "metadata": {},
   "outputs": [
    {
     "name": "stdout",
     "output_type": "stream",
     "text": [
      "category\n",
      "Amphibian              80\n",
      "Bird                  521\n",
      "Fish                  127\n",
      "Mammal                214\n",
      "Nonvascular Plant     333\n",
      "Reptile                79\n",
      "Vascular Plant       4470\n",
      "dtype: int64\n",
      "5824\n"
     ]
    }
   ],
   "source": [
    "print(species.groupby(\"category\").size())\n",
    "print(len(species))"
   ]
  },
  {
   "cell_type": "code",
   "execution_count": 41,
   "metadata": {},
   "outputs": [
    {
     "name": "stdout",
     "output_type": "stream",
     "text": [
      "[nan 'Species of Concern' 'Endangered' 'Threatened' 'In Recovery']\n",
      "There are 4 categories of conservation status\n"
     ]
    },
    {
     "data": {
      "image/png": "[encoded data removed]",
      "text/plain": [
       "<Figure size 432x288 with 1 Axes>"
      ]
     },
     "metadata": {
      "needs_background": "light"
     },
     "output_type": "display_data"
    },
    {
     "name": "stdout",
     "output_type": "stream",
     "text": [
      "The majority of animal species with a protected conservation status were recorded as a Species of Concern\n"
     ]
    }
   ],
   "source": [
    "print(species.conservation_status.unique())\n",
    "print('There are 4 categories of conservation status')\n",
    "species['conservation_status'].value_counts().plot(kind='bar')\n",
    "plt.ylabel('Frequency')\n",
    "plt.xlabel('Conservation status')\n",
    "plt.title('Frequency of different conservation statuses recorded for animal species in US National Parks')\n",
    "plt.show()\n",
    "print('The majority of animal species with a protected conservation status were recorded as a Species of Concern')\n",
    "\n"
   ]
  },
  {
   "cell_type": "markdown",
   "metadata": {},
   "source": [
    "We next looked at whether certain animal groups differed in their distribution amongst conservation statuses\n"
   ]
  },
  {
   "cell_type": "code",
   "execution_count": 42,
   "metadata": {},
   "outputs": [
    {
     "name": "stdout",
     "output_type": "stream",
     "text": [
      "['Mammal' 'Bird' 'Reptile' 'Amphibian' 'Fish' 'Vascular Plant'\n",
      " 'Nonvascular Plant']\n",
      "             category conservation_status  count\n",
      "0           Amphibian     No Intervention     73\n",
      "1           Amphibian  Species of Concern      4\n",
      "2           Amphibian          Threatened      2\n",
      "3           Amphibian          Endangered      1\n",
      "4                Bird     No Intervention    442\n",
      "5                Bird  Species of Concern     72\n",
      "6                Bird          Endangered      4\n",
      "7                Bird         In Recovery      3\n",
      "8                Fish     No Intervention    116\n",
      "9                Fish  Species of Concern      4\n",
      "10               Fish          Threatened      4\n",
      "11               Fish          Endangered      3\n",
      "12             Mammal     No Intervention    176\n",
      "13             Mammal  Species of Concern     28\n",
      "14             Mammal          Endangered      7\n",
      "15             Mammal          Threatened      2\n",
      "16             Mammal         In Recovery      1\n",
      "17  Nonvascular Plant     No Intervention    328\n",
      "18  Nonvascular Plant  Species of Concern      5\n",
      "19            Reptile     No Intervention     74\n",
      "20            Reptile  Species of Concern      5\n",
      "21     Vascular Plant     No Intervention   4424\n",
      "22     Vascular Plant  Species of Concern     43\n",
      "23     Vascular Plant          Threatened      2\n",
      "24     Vascular Plant          Endangered      1\n"
     ]
    }
   ],
   "source": [
    "print(species.category.unique())\n",
    "#first going to make indiv barplots for each category then do a stacked barplot\n",
    "species.fillna('No Intervention', inplace=True)\n",
    "species_grouped= species.groupby(['category']).conservation_status.value_counts()\n",
    "#changes the series back to a panda df and gives us count as column \n",
    "species_grouped= species_grouped.rename('count').reset_index()\n",
    "print(species_grouped)\n",
    "\n"
   ]
  },
  {
   "cell_type": "code",
   "execution_count": 43,
   "metadata": {},
   "outputs": [
    {
     "name": "stdout",
     "output_type": "stream",
     "text": [
      "                         count                                                 \\\n",
      "conservation_status Endangered In Recovery No Intervention Species of Concern   \n",
      "category                                                                        \n",
      "Amphibian                  1.0         NaN            73.0                4.0   \n",
      "Bird                       4.0         3.0           442.0               72.0   \n",
      "Fish                       3.0         NaN           116.0                4.0   \n",
      "Mammal                     7.0         1.0           176.0               28.0   \n",
      "Nonvascular Plant          NaN         NaN           328.0                5.0   \n",
      "Reptile                    NaN         NaN            74.0                5.0   \n",
      "Vascular Plant             1.0         NaN          4424.0               43.0   \n",
      "\n",
      "                                \n",
      "conservation_status Threatened  \n",
      "category                        \n",
      "Amphibian                  2.0  \n",
      "Bird                       NaN  \n",
      "Fish                       4.0  \n",
      "Mammal                     2.0  \n",
      "Nonvascular Plant          NaN  \n",
      "Reptile                    NaN  \n",
      "Vascular Plant             2.0  \n"
     ]
    },
    {
     "data": {
      "text/plain": [
       "<matplotlib.legend.Legend at 0x7fd120abea00>"
      ]
     },
     "execution_count": 43,
     "metadata": {},
     "output_type": "execute_result"
    },
    {
     "data": {
      "image/png": "[encoded data removed]",
      "text/plain": [
       "<Figure size 504x360 with 1 Axes>"
      ]
     },
     "metadata": {
      "needs_background": "light"
     },
     "output_type": "display_data"
    }
   ],
   "source": [
    "#unstack is way of getting data into wide format\n",
    "print(species_grouped.set_index(['category','conservation_status']).unstack())\n",
    "\n",
    "species_grouped.set_index(['category','conservation_status']).unstack().plot.bar(figsize=(7, 5))\n",
    "plt.title('Conservation status by animal species group')\n",
    "plt.xlabel('Animal species group')\n",
    "plt.ylabel('Count')\n",
    "plt.legend(['Endangered','In Recovery','No Intervention','Species of Concern','Threatened'])\n",
    "\n"
   ]
  },
  {
   "cell_type": "markdown",
   "metadata": {},
   "source": [
    "Vascular plants and birds have the largest counts of species that are classified as 'no intervention'. Due to the large majority of sightings being of species needing no intervention we cannot easily assess which groups have more endangered species etc. so we need to explore these as proportions of the number of each group's species."
   ]
  },
  {
   "cell_type": "code",
   "execution_count": 44,
   "metadata": {},
   "outputs": [
    {
     "name": "stdout",
     "output_type": "stream",
     "text": [
      "                         count                                                 \\\n",
      "conservation_status Endangered In Recovery No Intervention Species of Concern   \n",
      "category                                                                        \n",
      "Amphibian                  1.0         NaN            73.0                4.0   \n",
      "Bird                       4.0         3.0           442.0               72.0   \n",
      "Fish                       3.0         NaN           116.0                4.0   \n",
      "Mammal                     7.0         1.0           176.0               28.0   \n",
      "Nonvascular Plant          NaN         NaN           328.0                5.0   \n",
      "Reptile                    NaN         NaN            74.0                5.0   \n",
      "Vascular Plant             1.0         NaN          4424.0               43.0   \n",
      "\n",
      "                                \n",
      "conservation_status Threatened  \n",
      "category                        \n",
      "Amphibian                  2.0  \n",
      "Bird                       NaN  \n",
      "Fish                       4.0  \n",
      "Mammal                     2.0  \n",
      "Nonvascular Plant          NaN  \n",
      "Reptile                    NaN  \n",
      "Vascular Plant             2.0  \n",
      "                         count                                                 \\\n",
      "conservation_status Endangered In Recovery No Intervention Species of Concern   \n",
      "category                                                                        \n",
      "Amphibian             0.012500         NaN        0.912500           0.050000   \n",
      "Bird                  0.007678    0.005758        0.848369           0.138196   \n",
      "Fish                  0.023622         NaN        0.913386           0.031496   \n",
      "Mammal                0.032710    0.004673        0.822430           0.130841   \n",
      "Nonvascular Plant          NaN         NaN        0.984985           0.015015   \n",
      "Reptile                    NaN         NaN        0.936709           0.063291   \n",
      "Vascular Plant        0.000224         NaN        0.989709           0.009620   \n",
      "\n",
      "                                \n",
      "conservation_status Threatened  \n",
      "category                        \n",
      "Amphibian             0.025000  \n",
      "Bird                       NaN  \n",
      "Fish                  0.031496  \n",
      "Mammal                0.009346  \n",
      "Nonvascular Plant          NaN  \n",
      "Reptile                    NaN  \n",
      "Vascular Plant        0.000447  \n"
     ]
    },
    {
     "data": {
      "text/plain": [
       "<matplotlib.legend.Legend at 0x7fd12167d550>"
      ]
     },
     "execution_count": 44,
     "metadata": {},
     "output_type": "execute_result"
    },
    {
     "data": {
      "image/png": "[encoded data removed]",
      "text/plain": [
       "<Figure size 504x360 with 1 Axes>"
      ]
     },
     "metadata": {
      "needs_background": "light"
     },
     "output_type": "display_data"
    }
   ],
   "source": [
    "species_grouped_norm = species_grouped.set_index(['category','conservation_status']).unstack()\n",
    "print(species_grouped_norm)\n",
    "#sums by row with axis 1\n",
    "total_species = species_grouped_norm.sum(axis=1)\n",
    "#divide by column \n",
    "species_grouped_norm = species_grouped_norm.div(total_species, axis=0)\n",
    "print(species_grouped_norm)\n",
    "species_grouped_norm.plot.bar(figsize=(7, 5))\n",
    "plt.title('Conservation status by animal species group')\n",
    "plt.xlabel('Animal species group')\n",
    "plt.ylabel('% by animal species group')\n",
    "plt.legend(['Endangered','In Recovery','No Intervention','Species of Concern','Threatened'])\n"
   ]
  },
  {
   "cell_type": "markdown",
   "metadata": {},
   "source": [
    "From this plot we can see that as a proportion of all of their species group records, the largest number of endangered species are in the fish and mammal groups. Reptiles, vascular non vascular plants had fewer recordings and of these, the species sighted were all species of concern (or not recorded)."
   ]
  },
  {
   "cell_type": "code",
   "execution_count": 45,
   "metadata": {},
   "outputs": [
    {
     "name": "stdout",
     "output_type": "stream",
     "text": [
      "                         count                                                 \\\n",
      "conservation_status Endangered In Recovery No Intervention Species of Concern   \n",
      "category                                                                        \n",
      "Amphibian                  1.0         NaN            73.0                4.0   \n",
      "Bird                       4.0         3.0           442.0               72.0   \n",
      "Fish                       3.0         NaN           116.0                4.0   \n",
      "Mammal                     7.0         1.0           176.0               28.0   \n",
      "Nonvascular Plant          NaN         NaN           328.0                5.0   \n",
      "Reptile                    NaN         NaN            74.0                5.0   \n",
      "Vascular Plant             1.0         NaN          4424.0               43.0   \n",
      "\n",
      "                                \n",
      "conservation_status Threatened  \n",
      "category                        \n",
      "Amphibian                  2.0  \n",
      "Bird                       NaN  \n",
      "Fish                       4.0  \n",
      "Mammal                     2.0  \n",
      "Nonvascular Plant          NaN  \n",
      "Reptile                    NaN  \n",
      "Vascular Plant             2.0  \n",
      "                         count                                                 \\\n",
      "conservation_status Endangered In Recovery No Intervention Species of Concern   \n",
      "category                                                                        \n",
      "Amphibian               0.0625         NaN        0.012959           0.024845   \n",
      "Bird                    0.2500        0.75        0.078466           0.447205   \n",
      "Fish                    0.1875         NaN        0.020593           0.024845   \n",
      "Mammal                  0.4375        0.25        0.031244           0.173913   \n",
      "Nonvascular Plant          NaN         NaN        0.058228           0.031056   \n",
      "Reptile                    NaN         NaN        0.013137           0.031056   \n",
      "Vascular Plant          0.0625         NaN        0.785372           0.267081   \n",
      "\n",
      "                                \n",
      "conservation_status Threatened  \n",
      "category                        \n",
      "Amphibian                  0.2  \n",
      "Bird                       NaN  \n",
      "Fish                       0.4  \n",
      "Mammal                     0.2  \n",
      "Nonvascular Plant          NaN  \n",
      "Reptile                    NaN  \n",
      "Vascular Plant             0.2  \n"
     ]
    },
    {
     "data": {
      "text/plain": [
       "<matplotlib.legend.Legend at 0x7fd1210ae4f0>"
      ]
     },
     "execution_count": 45,
     "metadata": {},
     "output_type": "execute_result"
    },
    {
     "data": {
      "image/png": "[encoded data removed]",
      "text/plain": [
       "<Figure size 504x360 with 1 Axes>"
      ]
     },
     "metadata": {
      "needs_background": "light"
     },
     "output_type": "display_data"
    }
   ],
   "source": [
    "species_grouped_norm = species_grouped.set_index(['category','conservation_status']).unstack()\n",
    "print(species_grouped_norm)\n",
    "#sums by row with axis 1\n",
    "total_species = species_grouped_norm.sum(axis=0)\n",
    "#divide by column \n",
    "species_grouped_norm = species_grouped_norm.div(total_species, axis=1)\n",
    "print(species_grouped_norm)\n",
    "species_grouped_norm.plot.bar(figsize=(7, 5))\n",
    "plt.title('Conservation status by animal species group')\n",
    "plt.xlabel('Animal species group')\n",
    "plt.ylabel('% by conservation status')\n",
    "plt.legend(['Endangered','In Recovery','No Intervention','Species of Concern','Threatened'])"
   ]
  },
  {
   "cell_type": "markdown",
   "metadata": {},
   "source": [
    "When we look at the composition of each conservation status group we can see variation in which species groups predominate. For the endangered status most species are mammals (44%) followed by birds (25%). Additionally, although these two species groups predominate the endangered status species, birds (75%) and mammals (25%) make up all the species determined to be in recovery status. \n",
    "\n",
    "We want to look and see if there is a significant difference in these representation of different species groups in terms of protected vs unprotected"
   ]
  },
  {
   "cell_type": "code",
   "execution_count": 51,
   "metadata": {},
   "outputs": [
    {
     "name": "stdout",
     "output_type": "stream",
     "text": [
      "            category                scientific_name  \\\n",
      "0             Mammal  Clethrionomys gapperi gapperi   \n",
      "1             Mammal                      Bos bison   \n",
      "2             Mammal                     Bos taurus   \n",
      "3             Mammal                     Ovis aries   \n",
      "4             Mammal                 Cervus elaphus   \n",
      "...              ...                            ...   \n",
      "5819  Vascular Plant               Solanum parishii   \n",
      "5820  Vascular Plant                  Solanum xanti   \n",
      "5821  Vascular Plant         Parthenocissus vitacea   \n",
      "5822  Vascular Plant              Vitis californica   \n",
      "5823  Vascular Plant            Tribulus terrestris   \n",
      "\n",
      "                                           common_names conservation_status  \\\n",
      "0                              Gapper's Red-Backed Vole     No Intervention   \n",
      "1                                 American Bison, Bison     No Intervention   \n",
      "2     Aurochs, Aurochs, Domestic Cattle (Feral), Dom...     No Intervention   \n",
      "3     Domestic Sheep, Mouflon, Red Sheep, Sheep (Feral)     No Intervention   \n",
      "4                                         Wapiti Or Elk     No Intervention   \n",
      "...                                                 ...                 ...   \n",
      "5819                                Parish's Nightshade     No Intervention   \n",
      "5820            Chaparral Nightshade, Purple Nightshade     No Intervention   \n",
      "5821        Thicket Creeper, Virginia Creeper, Woodbine     No Intervention   \n",
      "5822            California Grape, California Wild Grape     No Intervention   \n",
      "5823  Bullhead, Caltrop, Goathead, Mexican Sandbur, ...     No Intervention   \n",
      "\n",
      "      is_protected  \n",
      "0            False  \n",
      "1            False  \n",
      "2            False  \n",
      "3            False  \n",
      "4            False  \n",
      "...            ...  \n",
      "5819         False  \n",
      "5820         False  \n",
      "5821         False  \n",
      "5822         False  \n",
      "5823         False  \n",
      "\n",
      "[5824 rows x 5 columns]\n",
      "            category  not_protected  protected\n",
      "0          Amphibian             72          7\n",
      "1               Bird            413         75\n",
      "2               Fish            115         11\n",
      "3             Mammal            146         30\n",
      "4  Nonvascular Plant            328          5\n",
      "5            Reptile             73          5\n",
      "6     Vascular Plant           4216         46\n"
     ]
    },
    {
     "data": {
      "text/html": [
       "<div>\n",
       "<style scoped>\n",
       "    .dataframe tbody tr th:only-of-type {\n",
       "        vertical-align: middle;\n",
       "    }\n",
       "\n",
       "    .dataframe tbody tr th {\n",
       "        vertical-align: top;\n",
       "    }\n",
       "\n",
       "    .dataframe thead th {\n",
       "        text-align: right;\n",
       "    }\n",
       "</style>\n",
       "<table border=\"1\" class=\"dataframe\">\n",
       "  <thead>\n",
       "    <tr style=\"text-align: right;\">\n",
       "      <th></th>\n",
       "      <th>category</th>\n",
       "      <th>not_protected</th>\n",
       "      <th>protected</th>\n",
       "      <th>percent_protected</th>\n",
       "    </tr>\n",
       "  </thead>\n",
       "  <tbody>\n",
       "    <tr>\n",
       "      <th>0</th>\n",
       "      <td>Amphibian</td>\n",
       "      <td>72</td>\n",
       "      <td>7</td>\n",
       "      <td>8.860759</td>\n",
       "    </tr>\n",
       "    <tr>\n",
       "      <th>1</th>\n",
       "      <td>Bird</td>\n",
       "      <td>413</td>\n",
       "      <td>75</td>\n",
       "      <td>15.368852</td>\n",
       "    </tr>\n",
       "    <tr>\n",
       "      <th>2</th>\n",
       "      <td>Fish</td>\n",
       "      <td>115</td>\n",
       "      <td>11</td>\n",
       "      <td>8.730159</td>\n",
       "    </tr>\n",
       "    <tr>\n",
       "      <th>3</th>\n",
       "      <td>Mammal</td>\n",
       "      <td>146</td>\n",
       "      <td>30</td>\n",
       "      <td>17.045455</td>\n",
       "    </tr>\n",
       "    <tr>\n",
       "      <th>4</th>\n",
       "      <td>Nonvascular Plant</td>\n",
       "      <td>328</td>\n",
       "      <td>5</td>\n",
       "      <td>1.501502</td>\n",
       "    </tr>\n",
       "    <tr>\n",
       "      <th>5</th>\n",
       "      <td>Reptile</td>\n",
       "      <td>73</td>\n",
       "      <td>5</td>\n",
       "      <td>6.410256</td>\n",
       "    </tr>\n",
       "    <tr>\n",
       "      <th>6</th>\n",
       "      <td>Vascular Plant</td>\n",
       "      <td>4216</td>\n",
       "      <td>46</td>\n",
       "      <td>1.079305</td>\n",
       "    </tr>\n",
       "  </tbody>\n",
       "</table>\n",
       "</div>"
      ],
      "text/plain": [
       "            category  not_protected  protected  percent_protected\n",
       "0          Amphibian             72          7           8.860759\n",
       "1               Bird            413         75          15.368852\n",
       "2               Fish            115         11           8.730159\n",
       "3             Mammal            146         30          17.045455\n",
       "4  Nonvascular Plant            328          5           1.501502\n",
       "5            Reptile             73          5           6.410256\n",
       "6     Vascular Plant           4216         46           1.079305"
      ]
     },
     "execution_count": 51,
     "metadata": {},
     "output_type": "execute_result"
    }
   ],
   "source": [
    "#class as protected or not by everything that doesnt = no intervention is classed as protected\n",
    "species2['is_protected'] = species2.conservation_status != 'No Intervention'\n",
    "print(species2)\n",
    "category_counts = species2.groupby(['category', 'is_protected'])\\\n",
    "                        .scientific_name.nunique()\\\n",
    "                        .reset_index()\\\n",
    "                        .pivot(columns='is_protected',\n",
    "                                      index='category',\n",
    "                                      values='scientific_name')\\\n",
    "                        .reset_index()\n",
    "category_counts.columns = ['category', 'not_protected', 'protected']\n",
    "\n",
    "print(category_counts)\n",
    "\n",
    "category_counts['percent_protected'] = category_counts.protected / \\\n",
    "                                      (category_counts.protected + category_counts.not_protected) * 100\n",
    "\n",
    "category_counts"
   ]
  },
  {
   "cell_type": "markdown",
   "metadata": {},
   "source": [
    "It looks like birds and mammals have the largest numbers of protected species- but is this statistically significant? also, vascular plants have the lowest number of protected species- does this differ significantly from mammals? we must do a chi2 to find out."
   ]
  },
  {
   "cell_type": "code",
   "execution_count": 53,
   "metadata": {},
   "outputs": [
    {
     "data": {
      "text/plain": [
       "(2717.64917459303,\n",
       " 0.0,\n",
       " 1,\n",
       " array([[ 168.38575935,    7.61424065],\n",
       "        [4077.61424065,  184.38575935]]))"
      ]
     },
     "execution_count": 53,
     "metadata": {},
     "output_type": "execute_result"
    }
   ],
   "source": [
    "\n",
    "contingency1 = [[30, 146],\n",
    "              [75, 413]]\n",
    "chi2_contingency(contingency1)\n",
    "\n",
    "#non sig birds vs mammals, p =0.69\n",
    "\n",
    "contingency1 = [[30, 146],\n",
    "              [4216, 46]]\n",
    "chi2_contingency(contingency1)\n",
    "#sig difference vasc plants vs mammals p<0.001"
   ]
  },
  {
   "cell_type": "markdown",
   "metadata": {},
   "source": [
    "Mammals and birds do not have a significant difference in the proportions of protected or not protected groups. However, vascular plants have significantly larger proportions of unprotected species than protected when compared to mammals."
   ]
  },
  {
   "cell_type": "code",
   "execution_count": 48,
   "metadata": {},
   "outputs": [
    {
     "name": "stdout",
     "output_type": "stream",
     "text": [
      "                 scientific_name                            park_name  \\\n",
      "11281     Lycopodium tristachyum            Yellowstone National Park   \n",
      "1168          Castilleja miniata            Yellowstone National Park   \n",
      "20734        Cryptantha fendleri            Yellowstone National Park   \n",
      "8749   Dracocephalum parviflorum            Yellowstone National Park   \n",
      "7112           Bidens tripartita            Yellowstone National Park   \n",
      "...                          ...                                  ...   \n",
      "20375          Sambucus mexicana  Great Smoky Mountains National Park   \n",
      "18823               Rana sierrae  Great Smoky Mountains National Park   \n",
      "16054         Strix occidentalis  Great Smoky Mountains National Park   \n",
      "15511         Collomia tinctoria  Great Smoky Mountains National Park   \n",
      "9418             Corydalis aurea                  Bryce National Park   \n",
      "\n",
      "       observations  \n",
      "11281           321  \n",
      "1168            317  \n",
      "20734           316  \n",
      "8749            316  \n",
      "7112            314  \n",
      "...             ...  \n",
      "20375            12  \n",
      "18823            11  \n",
      "16054            11  \n",
      "15511            10  \n",
      "9418              9  \n",
      "\n",
      "[23296 rows x 3 columns]\n",
      "304\n",
      "23296\n"
     ]
    }
   ],
   "source": [
    "\n",
    "print(obs.sort_values(by='observations',ascending=False))\n",
    "print(obs.observations.nunique())\n",
    "print(len(obs))"
   ]
  },
  {
   "cell_type": "markdown",
   "metadata": {},
   "source": [
    "The most frequently observed species overall was Lycopodium tristachyum, a moss. However, we could see from this dataset that there is 23296 rows of data but only ~300 unique values. Therefore, there are duplicates either due to different parks recording same species or the same species being recorded >1 x. So we need to tidy the data a bit more to find out what species are most commonly identified across all parks in the data.\n",
    "We're going to join the 2 datasets of species and observations together and then combine all the recordings of the same species of animal across different sites."
   ]
  },
  {
   "cell_type": "code",
   "execution_count": 27,
   "metadata": {},
   "outputs": [
    {
     "name": "stdout",
     "output_type": "stream",
     "text": [
      "  category                scientific_name  \\\n",
      "0   Mammal  Clethrionomys gapperi gapperi   \n",
      "1   Mammal  Clethrionomys gapperi gapperi   \n",
      "2   Mammal  Clethrionomys gapperi gapperi   \n",
      "3   Mammal  Clethrionomys gapperi gapperi   \n",
      "4   Mammal                      Bos bison   \n",
      "5   Mammal                      Bos bison   \n",
      "6   Mammal                      Bos bison   \n",
      "7   Mammal                      Bos bison   \n",
      "8   Mammal                     Bos taurus   \n",
      "9   Mammal                     Bos taurus   \n",
      "\n",
      "                                        common_names conservation_status  \\\n",
      "0                           Gapper's Red-Backed Vole                 NaN   \n",
      "1                           Gapper's Red-Backed Vole                 NaN   \n",
      "2                           Gapper's Red-Backed Vole                 NaN   \n",
      "3                           Gapper's Red-Backed Vole                 NaN   \n",
      "4                              American Bison, Bison                 NaN   \n",
      "5                              American Bison, Bison                 NaN   \n",
      "6                              American Bison, Bison                 NaN   \n",
      "7                              American Bison, Bison                 NaN   \n",
      "8  Aurochs, Aurochs, Domestic Cattle (Feral), Dom...                 NaN   \n",
      "9  Aurochs, Aurochs, Domestic Cattle (Feral), Dom...                 NaN   \n",
      "\n",
      "                             park_name  observations  \n",
      "0                  Bryce National Park           130  \n",
      "1            Yellowstone National Park           270  \n",
      "2  Great Smoky Mountains National Park            98  \n",
      "3               Yosemite National Park           117  \n",
      "4               Yosemite National Park           128  \n",
      "5            Yellowstone National Park           269  \n",
      "6                  Bryce National Park            68  \n",
      "7  Great Smoky Mountains National Park            77  \n",
      "8                  Bryce National Park            99  \n",
      "9               Yosemite National Park           124  \n",
      "  category              common_names conservation_status  observations\n",
      "0   Mammal  Gapper's Red-Backed Vole                 NaN           130\n",
      "1   Mammal  Gapper's Red-Backed Vole                 NaN           270\n",
      "2   Mammal  Gapper's Red-Backed Vole                 NaN            98\n",
      "3   Mammal  Gapper's Red-Backed Vole                 NaN           117\n",
      "4   Mammal     American Bison, Bison                 NaN           128\n",
      "            common_names  observations\n",
      "1729       Dicranum Moss          4008\n",
      "771   Brachythecium Moss          3910\n",
      "3664         Panic Grass          3543\n",
      "901           Bryum Moss          3477\n",
      "4653            Sphagnum          3476\n",
      "2672         Hypnum Moss          2955\n",
      "2668    Hygrohypnum Moss          2845\n",
      "266        Anomodon Moss          2384\n",
      "16        A Sedge, Sedge          2336\n",
      "3819         Pohlia Moss          2330\n"
     ]
    }
   ],
   "source": [
    "join_df = species.merge(obs, on='scientific_name', how='outer')\n",
    "print(join_df.head(10))\n",
    "#weve joined the 2 tables\n",
    "#new df with national park column removed\n",
    "join_2 = join_df.drop([\"park_name\",\"scientific_name\"], axis=1)\n",
    "print(join_2.head())\n",
    "#group by common name and then sum\n",
    "most_freq = join_2.groupby('common_names').sum().reset_index().sort_values(by=\"observations\",ascending=False)\n",
    "print(most_freq.head(10))\n"
   ]
  },
  {
   "cell_type": "markdown",
   "metadata": {},
   "source": [
    "Across, the parks the most common species identifed was Dicranum moss. All of the top 10 species identified were plants (mostly moss species, 70%). Lets go a bit broader and group things like moss all together so we can see what other types of species are observed.\n",
    "*For this bit I have used code from the sample solution (we havent learned this yet on data science path)-but I will look at birds, not mammals*"
   ]
  },
  {
   "cell_type": "code",
   "execution_count": 60,
   "metadata": {},
   "outputs": [
    {
     "data": {
      "text/plain": [
       "[['Brewsters', 'Warbler'],\n",
       " ['Coopers', 'Hawk'],\n",
       " ['Northern', 'Goshawk'],\n",
       " ['SharpShinned', 'Hawk'],\n",
       " ['Golden', 'Eagle'],\n",
       " ['RedTailed', 'Hawk']]"
      ]
     },
     "execution_count": 60,
     "metadata": {},
     "output_type": "execute_result"
    }
   ],
   "source": [
    "#split species name into 1 word chunks for each line\n",
    "from itertools import chain\n",
    "import string\n",
    "\n",
    "def remove_punctuations(text):\n",
    "    for punctuation in string.punctuation:\n",
    "        text = text.replace(punctuation, '')\n",
    "    return text\n",
    "\n",
    "common_Names = species[species.category == \"Bird\"]\\\n",
    "    .common_names\\\n",
    "    .apply(remove_punctuations)\\\n",
    "    .str.split().tolist()\n",
    "\n",
    "common_Names[:6]"
   ]
  },
  {
   "cell_type": "code",
   "execution_count": 61,
   "metadata": {},
   "outputs": [
    {
     "data": {
      "text/plain": [
       "[['Brewsters', 'Warbler'],\n",
       " ['Coopers', 'Hawk'],\n",
       " ['Northern', 'Goshawk'],\n",
       " ['SharpShinned', 'Hawk'],\n",
       " ['Golden', 'Eagle'],\n",
       " ['RedTailed', 'Hawk']]"
      ]
     },
     "execution_count": 61,
     "metadata": {},
     "output_type": "execute_result"
    }
   ],
   "source": [
    "#remove duplicate words in a species eg. American bison bison\n",
    "cleanRows = []\n",
    "\n",
    "for item in common_Names:\n",
    "    item = list(dict.fromkeys(item))\n",
    "    cleanRows.append(item)\n",
    "    \n",
    "cleanRows[:6]"
   ]
  },
  {
   "cell_type": "code",
   "execution_count": 62,
   "metadata": {},
   "outputs": [
    {
     "data": {
      "text/plain": [
       "['Brewsters', 'Warbler', 'Coopers', 'Hawk', 'Northern', 'Goshawk']"
      ]
     },
     "execution_count": 62,
     "metadata": {},
     "output_type": "execute_result"
    }
   ],
   "source": [
    "#make into 1 list\n",
    "res = list(chain.from_iterable(i if isinstance(i, list) else [i] for i in cleanRows))\n",
    "res[:6]"
   ]
  },
  {
   "cell_type": "code",
   "execution_count": 63,
   "metadata": {},
   "outputs": [
    {
     "data": {
      "text/html": [
       "<div>\n",
       "<style scoped>\n",
       "    .dataframe tbody tr th:only-of-type {\n",
       "        vertical-align: middle;\n",
       "    }\n",
       "\n",
       "    .dataframe tbody tr th {\n",
       "        vertical-align: top;\n",
       "    }\n",
       "\n",
       "    .dataframe thead th {\n",
       "        text-align: right;\n",
       "    }\n",
       "</style>\n",
       "<table border=\"1\" class=\"dataframe\">\n",
       "  <thead>\n",
       "    <tr style=\"text-align: right;\">\n",
       "      <th></th>\n",
       "      <th>Word</th>\n",
       "      <th>Count</th>\n",
       "    </tr>\n",
       "  </thead>\n",
       "  <tbody>\n",
       "    <tr>\n",
       "      <th>21</th>\n",
       "      <td>Warbler</td>\n",
       "      <td>59</td>\n",
       "    </tr>\n",
       "    <tr>\n",
       "      <th>248</th>\n",
       "      <td>Sparrow</td>\n",
       "      <td>29</td>\n",
       "    </tr>\n",
       "    <tr>\n",
       "      <th>437</th>\n",
       "      <td>American</td>\n",
       "      <td>21</td>\n",
       "    </tr>\n",
       "    <tr>\n",
       "      <th>304</th>\n",
       "      <td>Northern</td>\n",
       "      <td>20</td>\n",
       "    </tr>\n",
       "    <tr>\n",
       "      <th>236</th>\n",
       "      <td>Owl</td>\n",
       "      <td>18</td>\n",
       "    </tr>\n",
       "    <tr>\n",
       "      <th>428</th>\n",
       "      <td>Common</td>\n",
       "      <td>18</td>\n",
       "    </tr>\n",
       "    <tr>\n",
       "      <th>216</th>\n",
       "      <td>Flycatcher</td>\n",
       "      <td>18</td>\n",
       "    </tr>\n",
       "    <tr>\n",
       "      <th>326</th>\n",
       "      <td>Woodpecker</td>\n",
       "      <td>12</td>\n",
       "    </tr>\n",
       "    <tr>\n",
       "      <th>162</th>\n",
       "      <td>Western</td>\n",
       "      <td>12</td>\n",
       "    </tr>\n",
       "    <tr>\n",
       "      <th>287</th>\n",
       "      <td>Sandpiper</td>\n",
       "      <td>11</td>\n",
       "    </tr>\n",
       "  </tbody>\n",
       "</table>\n",
       "</div>"
      ],
      "text/plain": [
       "           Word  Count\n",
       "21      Warbler     59\n",
       "248     Sparrow     29\n",
       "437    American     21\n",
       "304    Northern     20\n",
       "236         Owl     18\n",
       "428      Common     18\n",
       "216  Flycatcher     18\n",
       "326  Woodpecker     12\n",
       "162     Western     12\n",
       "287   Sandpiper     11"
      ]
     },
     "execution_count": 63,
     "metadata": {},
     "output_type": "execute_result"
    }
   ],
   "source": [
    "#counts the number of occurences of each word eg. vole\n",
    "words_counted = []\n",
    "\n",
    "for i in res:\n",
    "    x = res.count(i)\n",
    "    words_counted.append((i,x))\n",
    "\n",
    "pd.DataFrame(set(words_counted), columns =['Word', 'Count']).sort_values(\"Count\", ascending = False).head(10)"
   ]
  },
  {
   "cell_type": "markdown",
   "metadata": {},
   "source": [
    "Warblers were the most commonly identifed bird. How many different kinds of warblers are there in the park and how many are protected?\n"
   ]
  },
  {
   "cell_type": "code",
   "execution_count": 105,
   "metadata": {},
   "outputs": [
    {
     "name": "stdout",
     "output_type": "stream",
     "text": [
      "            category                 scientific_name  \\\n",
      "3204            Bird              Setophaga coronata   \n",
      "265             Bird         Limnothlypis swainsonii   \n",
      "279             Bird             Vermivora lawrencei   \n",
      "278             Bird   Vermivora chrysoptera X pinus   \n",
      "277             Bird                Vermivora celata   \n",
      "...              ...                             ...   \n",
      "1963  Vascular Plant  Carex atlantica ssp. atlantica   \n",
      "1962  Vascular Plant                 Carex atlantica   \n",
      "1961  Vascular Plant               Carex appalachica   \n",
      "1960  Vascular Plant                 Carex annectens   \n",
      "5823  Vascular Plant             Tribulus terrestris   \n",
      "\n",
      "                                           common_names conservation_status  \\\n",
      "3204                              Yellow-Rumped Warbler     No Intervention   \n",
      "265                                  Swainson's Warbler     No Intervention   \n",
      "279                                  Lawrence's Warbler     No Intervention   \n",
      "278                                  Brewster's Warbler     No Intervention   \n",
      "277                              Orange-Crowned Warbler     No Intervention   \n",
      "...                                                 ...                 ...   \n",
      "1963                                              Sedge     No Intervention   \n",
      "1962                                  Prickly Bog Sedge     No Intervention   \n",
      "1961                                  Appalachian Sedge     No Intervention   \n",
      "1960                                     A Sedge, Sedge     No Intervention   \n",
      "5823  Bullhead, Caltrop, Goathead, Mexican Sandbur, ...     No Intervention   \n",
      "\n",
      "      is_protected  is_warbler  \n",
      "3204         False        True  \n",
      "265          False        True  \n",
      "279          False        True  \n",
      "278          False        True  \n",
      "277          False        True  \n",
      "...            ...         ...  \n",
      "1963         False       False  \n",
      "1962         False       False  \n",
      "1961         False       False  \n",
      "1960         False       False  \n",
      "5823         False       False  \n",
      "\n",
      "[5824 rows x 6 columns]\n",
      "39\n",
      "      scientific_name                            park_name  observations  \\\n",
      "0    Vermivora celata               Yosemite National Park           106   \n",
      "1    Vermivora celata  Great Smoky Mountains National Park            76   \n",
      "2    Vermivora celata            Yellowstone National Park           281   \n",
      "3    Vermivora celata                  Bryce National Park           121   \n",
      "4  Setophaga dominica               Yosemite National Park           140   \n",
      "\n",
      "  category             common_names conservation_status  is_protected  \\\n",
      "0     Bird   Orange-Crowned Warbler     No Intervention         False   \n",
      "1     Bird   Orange-Crowned Warbler     No Intervention         False   \n",
      "2     Bird   Orange-Crowned Warbler     No Intervention         False   \n",
      "3     Bird   Orange-Crowned Warbler     No Intervention         False   \n",
      "4     Bird  Yellow-Throated Warbler     No Intervention         False   \n",
      "\n",
      "   is_warbler  \n",
      "0        True  \n",
      "1        True  \n",
      "2        True  \n",
      "3        True  \n",
      "4        True  \n",
      "           scientific_name                            park_name  observations  \\\n",
      "40        Wilsonia pusilla               Yosemite National Park           118   \n",
      "41        Wilsonia pusilla            Yellowstone National Park           205   \n",
      "42        Wilsonia pusilla                  Bryce National Park           108   \n",
      "43        Wilsonia pusilla  Great Smoky Mountains National Park            68   \n",
      "140  Vermivora ruficapilla            Yellowstone National Park           229   \n",
      "141  Vermivora ruficapilla                  Bryce National Park            67   \n",
      "142  Vermivora ruficapilla  Great Smoky Mountains National Park            59   \n",
      "143  Vermivora ruficapilla               Yosemite National Park           108   \n",
      "152    Vermivora bachmanii                  Bryce National Park            20   \n",
      "153    Vermivora bachmanii               Yosemite National Park            45   \n",
      "154    Vermivora bachmanii            Yellowstone National Park            58   \n",
      "155    Vermivora bachmanii  Great Smoky Mountains National Park            18   \n",
      "\n",
      "    category                               common_names conservation_status  \\\n",
      "40      Bird                           Wilson's Warbler  Species of Concern   \n",
      "41      Bird                           Wilson's Warbler  Species of Concern   \n",
      "42      Bird                           Wilson's Warbler  Species of Concern   \n",
      "43      Bird                           Wilson's Warbler  Species of Concern   \n",
      "140     Bird                          Nashville Warbler  Species of Concern   \n",
      "141     Bird                          Nashville Warbler  Species of Concern   \n",
      "142     Bird                          Nashville Warbler  Species of Concern   \n",
      "143     Bird                          Nashville Warbler  Species of Concern   \n",
      "152     Bird  Bachman's Warbler, Bachman's Wood Warbler          Endangered   \n",
      "153     Bird  Bachman's Warbler, Bachman's Wood Warbler          Endangered   \n",
      "154     Bird  Bachman's Warbler, Bachman's Wood Warbler          Endangered   \n",
      "155     Bird  Bachman's Warbler, Bachman's Wood Warbler          Endangered   \n",
      "\n",
      "     is_protected  is_warbler  \n",
      "40           True        True  \n",
      "41           True        True  \n",
      "42           True        True  \n",
      "43           True        True  \n",
      "140          True        True  \n",
      "141          True        True  \n",
      "142          True        True  \n",
      "143          True        True  \n",
      "152          True        True  \n",
      "153          True        True  \n",
      "154          True        True  \n",
      "155          True        True  \n",
      "12\n"
     ]
    }
   ],
   "source": [
    "#species['is_warbler'] = species.common_names.str.contains(r\"\\bWarbler\\b\", regex = True)\n",
    "species['is_warbler'] = species.common_names.str.contains(\"Warbler\")\n",
    "species.sample(10)\n",
    "print(species.sort_values('is_warbler', ascending=False))\n",
    "species[species.is_warbler]\n",
    "warblers = species[species['is_warbler'] == True]\n",
    "print(warblers.common_names.nunique())\n",
    "\n",
    "\n",
    "warbler_observations = obs.merge(species[species.is_warbler])\n",
    "print(warbler_observations.head())\n",
    "\n",
    "\n",
    "protected_warblers = warbler_observations[warbler_observations['is_protected'] == True]\n",
    "print(protected_warblers)\n",
    "print(len(protected_warblers))"
   ]
  },
  {
   "cell_type": "markdown",
   "metadata": {},
   "source": [
    "There are 39 warbler species in the records, 3 are protected species. Lets see how common protected vs not protected warblers are across the National Parks"
   ]
  },
  {
   "cell_type": "code",
   "execution_count": 88,
   "metadata": {},
   "outputs": [
    {
     "data": {
      "text/html": [
       "<div>\n",
       "<style scoped>\n",
       "    .dataframe tbody tr th:only-of-type {\n",
       "        vertical-align: middle;\n",
       "    }\n",
       "\n",
       "    .dataframe tbody tr th {\n",
       "        vertical-align: top;\n",
       "    }\n",
       "\n",
       "    .dataframe thead th {\n",
       "        text-align: right;\n",
       "    }\n",
       "</style>\n",
       "<table border=\"1\" class=\"dataframe\">\n",
       "  <thead>\n",
       "    <tr style=\"text-align: right;\">\n",
       "      <th></th>\n",
       "      <th>park_name</th>\n",
       "      <th>is_protected</th>\n",
       "      <th>observations</th>\n",
       "    </tr>\n",
       "  </thead>\n",
       "  <tbody>\n",
       "    <tr>\n",
       "      <th>0</th>\n",
       "      <td>Bryce National Park</td>\n",
       "      <td>False</td>\n",
       "      <td>5565</td>\n",
       "    </tr>\n",
       "    <tr>\n",
       "      <th>1</th>\n",
       "      <td>Bryce National Park</td>\n",
       "      <td>True</td>\n",
       "      <td>195</td>\n",
       "    </tr>\n",
       "    <tr>\n",
       "      <th>2</th>\n",
       "      <td>Great Smoky Mountains National Park</td>\n",
       "      <td>False</td>\n",
       "      <td>4290</td>\n",
       "    </tr>\n",
       "    <tr>\n",
       "      <th>3</th>\n",
       "      <td>Great Smoky Mountains National Park</td>\n",
       "      <td>True</td>\n",
       "      <td>145</td>\n",
       "    </tr>\n",
       "    <tr>\n",
       "      <th>4</th>\n",
       "      <td>Yellowstone National Park</td>\n",
       "      <td>False</td>\n",
       "      <td>13995</td>\n",
       "    </tr>\n",
       "    <tr>\n",
       "      <th>5</th>\n",
       "      <td>Yellowstone National Park</td>\n",
       "      <td>True</td>\n",
       "      <td>492</td>\n",
       "    </tr>\n",
       "    <tr>\n",
       "      <th>6</th>\n",
       "      <td>Yosemite National Park</td>\n",
       "      <td>False</td>\n",
       "      <td>8441</td>\n",
       "    </tr>\n",
       "    <tr>\n",
       "      <th>7</th>\n",
       "      <td>Yosemite National Park</td>\n",
       "      <td>True</td>\n",
       "      <td>271</td>\n",
       "    </tr>\n",
       "  </tbody>\n",
       "</table>\n",
       "</div>"
      ],
      "text/plain": [
       "                             park_name  is_protected  observations\n",
       "0                  Bryce National Park         False          5565\n",
       "1                  Bryce National Park          True           195\n",
       "2  Great Smoky Mountains National Park         False          4290\n",
       "3  Great Smoky Mountains National Park          True           145\n",
       "4            Yellowstone National Park         False         13995\n",
       "5            Yellowstone National Park          True           492\n",
       "6               Yosemite National Park         False          8441\n",
       "7               Yosemite National Park          True           271"
      ]
     },
     "execution_count": 88,
     "metadata": {},
     "output_type": "execute_result"
    }
   ],
   "source": [
    "warbler_observations.groupby('park_name').observations.sum().reset_index()\n",
    "obs_by_park = warbler_observations.groupby(['park_name', 'is_protected']).observations.sum().reset_index()\n",
    "obs_by_park"
   ]
  },
  {
   "cell_type": "code",
   "execution_count": 89,
   "metadata": {},
   "outputs": [
    {
     "data": {
      "image/png": "[encoded data removed]",
      "text/plain": [
       "<Figure size 1152x288 with 1 Axes>"
      ]
     },
     "metadata": {
      "needs_background": "light"
     },
     "output_type": "display_data"
    }
   ],
   "source": [
    "plt.figure(figsize=(16, 4))\n",
    "sns.barplot(x=obs_by_park.park_name, y= obs_by_park.observations, hue=obs_by_park.is_protected)\n",
    "plt.xlabel('National Parks')\n",
    "plt.ylabel('Number of Observations')\n",
    "plt.title('Observations of Warblers per Week')\n",
    "plt.show()"
   ]
  },
  {
   "cell_type": "markdown",
   "metadata": {},
   "source": [
    "Yellowstone sees the largest number of observations of Warblers per week, both the protected and unprotected species. \n",
    "Lastly, lets see counts of each protected warbler species  in each park. "
   ]
  },
  {
   "cell_type": "code",
   "execution_count": 101,
   "metadata": {},
   "outputs": [
    {
     "data": {
      "image/png": "[encoded data removed]",
      "text/plain": [
       "<Figure size 1152x288 with 1 Axes>"
      ]
     },
     "metadata": {
      "needs_background": "light"
     },
     "output_type": "display_data"
    }
   ],
   "source": [
    "protected_warblers.groupby(['park_name','common_names']).observations.sum().reset_index()\n",
    "plt.figure(figsize=(16, 4))\n",
    "sns.barplot(x=protected_warblers.park_name, y= protected_warblers.observations, hue=protected_warblers.common_names)\n",
    "plt.xlabel('National Parks')\n",
    "plt.ylabel('Number of Observations')\n",
    "plt.title('Observations of Protected Warblers per Week')\n",
    "plt.show()"
   ]
  },
  {
   "cell_type": "markdown",
   "metadata": {},
   "source": [
    "Of the 3 protected warbler species, the majority are recorded in Yellowstone (previous plot indicated most warblers,protected or not, were found there). The most common warbler species in Yellowstone was the Nashville warbler. "
   ]
  },
  {
   "cell_type": "markdown",
   "metadata": {},
   "source": [
    "Conclusions:\n",
    "\n",
    "\n",
    "    -> There are lots of sightings recorded in the National Parks- the majority of sightings are of species with a conservation status of 'No Intervention' (this makes sense, more commonly seen if not endangered)   \n",
    "    \n",
    "    ->Vascular plants and birds are the predominant species groups that have species with a 'No Intervention' status   \n",
    "    -> The most commonly recorded observation across all parks was the vascular plant, Lycopodium tristachyum, a moss.   \n",
    "    \n",
    "    -> At the species group level,mammals and birds have the highest proportions of species that are endangered   \n",
    "    \n",
    "    -> When protection status was examined, the proportions of protected vs unprotected species were not different between birds and mammals but were different between mammals and vascular plants    \n",
    "    \n",
    "    -> At the conservation status level, mammals and birds also had the highest proportion of species in recovery (good news)   \n",
    "    -> There was no significant difference between birds versus mammals in terms of protected vs non protected species (p=0.69)   \n",
    "    \n",
    "    -> We looked at birds in further depth to see the most common type of bird identified across the parks, Warblers\n",
    "    -> There were 39 warbler species IDed in the parks, 3 were protected species\n",
    "    -> Yellowstone park had the  most warbler seen, of the protected species the Nashville Warbler was most commmon there\n",
    "    \n",
    "   -> This is a 7 day dataset. For exploring conservation status and species recovery a longitudinal dataset would be of more interest and representative\n",
    "   "
   ]
  },
  {
   "cell_type": "code",
   "execution_count": null,
   "metadata": {},
   "outputs": [],
   "source": []
  },
  {
   "cell_type": "code",
   "execution_count": null,
   "metadata": {},
   "outputs": [],
   "source": []
  },
  {
   "cell_type": "code",
   "execution_count": null,
   "metadata": {},
   "outputs": [],
   "source": []
  }
 ],
 "metadata": {
  "kernelspec": {
   "display_name": "Python 3",
   "language": "python",
   "name": "python3"
  },
  "language_info": {
   "codemirror_mode": {
    "name": "ipython",
    "version": 3
   },
   "file_extension": ".py",
   "mimetype": "text/x-python",
   "name": "python",
   "nbconvert_exporter": "python",
   "pygments_lexer": "ipython3",
   "version": "3.8.5"
  }
 },
 "nbformat": 4,
 "nbformat_minor": 4
}
